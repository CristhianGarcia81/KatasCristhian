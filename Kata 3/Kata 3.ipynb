{
 "cells": [
  {
   "cell_type": "markdown",
   "metadata": {},
   "source": [
    "Ejercicio - Escribir declaraciones if, else, y elif #1"
   ]
  },
  {
   "cell_type": "code",
   "execution_count": 4,
   "metadata": {},
   "outputs": [
    {
     "name": "stdout",
     "output_type": "stream",
     "text": [
      "Un asteroide se acerca, y viaja a una velocidad de 49Km/h\n"
     ]
    }
   ],
   "source": [
    "velocidad_asteroide = 49\n",
    "if velocidad_asteroide < 25:\n",
    "    print(\"Todo bien\")\n",
    "else:\n",
    "    print(f'Un asteroide se acerca, y viaja a una velocidad de {velocidad_asteroide}Km/s')\n"
   ]
  },
  {
   "cell_type": "markdown",
   "metadata": {},
   "source": [
    "Ejercicio - Escribir declaraciones if, else, y elif #2"
   ]
  },
  {
   "cell_type": "code",
   "execution_count": 10,
   "metadata": {},
   "outputs": [
    {
     "name": "stdout",
     "output_type": "stream",
     "text": [
      "No hay necesidad de buscar el asteroide\n"
     ]
    }
   ],
   "source": [
    "velocidad_asteroide = 19\n",
    "if velocidad_asteroide > 20:\n",
    "    print(f'El asteroide produce un rayo de luz que se puede ver desde la Tierra')\n",
    "elif velocidad_asteroide == 20:\n",
    "    print(f'El asteroide produce un rayo de luz que se puede ver desde la Tierra')\n",
    "else:\n",
    "    print(f\"No hay necesidad de buscar el asteroide\")"
   ]
  },
  {
   "cell_type": "markdown",
   "metadata": {},
   "source": [
    "Ejercicio: Uso de operadores and y or"
   ]
  },
  {
   "cell_type": "code",
   "execution_count": 16,
   "metadata": {},
   "outputs": [
    {
     "name": "stdout",
     "output_type": "stream",
     "text": [
      "¡Si el asteroide nos golpea, causará mucho daño!\n"
     ]
    }
   ],
   "source": [
    "dimension_asteroide = 50\n",
    "velocidad_asteroide = 36\n",
    "if dimension_asteroide > 25 and velocidad_asteroide > 25:\n",
    "    print(\"¡Si el asteroide nos golpea, causará mucho daño!\")\n",
    "elif velocidad_asteroide >= 20:\n",
    "    print(\"El asteroide produce un rayo de luz que se puede ver desde la Tierra\")\n",
    "elif dimension_asteroide < 25:\n",
    "    print(\"Todo bien\")\n",
    "else: \n",
    "    print(\"Todo bien\")"
   ]
  }
 ],
 "metadata": {
  "interpreter": {
   "hash": "ea8b20c7979c28c7329b841e5bbf9a10980ebabd06d902f6a3004c5ff31a66ce"
  },
  "kernelspec": {
   "display_name": "Python 3.8.0 64-bit",
   "language": "python",
   "name": "python3"
  },
  "language_info": {
   "codemirror_mode": {
    "name": "ipython",
    "version": 3
   },
   "file_extension": ".py",
   "mimetype": "text/x-python",
   "name": "python",
   "nbconvert_exporter": "python",
   "pygments_lexer": "ipython3",
   "version": "3.8.8"
  },
  "orig_nbformat": 4
 },
 "nbformat": 4,
 "nbformat_minor": 2
}
