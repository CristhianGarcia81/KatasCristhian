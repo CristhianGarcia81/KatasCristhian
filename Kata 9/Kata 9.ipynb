{
 "cells": [
  {
   "cell_type": "markdown",
   "metadata": {},
   "source": [
    "Ejercicio 1: Trabajar con argumentos en funciones"
   ]
  },
  {
   "cell_type": "code",
   "execution_count": 18,
   "metadata": {},
   "outputs": [],
   "source": [
    "def tanques (tanque1, tanque2, tanque3):\n",
    "    return f\"\"\"Informe de tanques:\\nTanque 1: {tanque1}\\n\n",
    "               Tanque 2: {tanque2}\\nTanque 3: {tanque3}\\n\n",
    "               Promedio: {promedio(tanque1,tanque2,tanque3)}\"\"\"\n",
    "    "
   ]
  },
  {
   "cell_type": "code",
   "execution_count": null,
   "metadata": {},
   "outputs": [],
   "source": [
    "print(tanques(80,90,100))"
   ]
  },
  {
   "cell_type": "code",
   "execution_count": 11,
   "metadata": {},
   "outputs": [],
   "source": [
    "def promedio(tanque1, tanque2, tanque3):\n",
    "    return (tanque1 + tanque2 + tanque3) / 3"
   ]
  },
  {
   "cell_type": "markdown",
   "metadata": {},
   "source": [
    "Ejercicio 2: Trabajo con argumentos de palabra clave"
   ]
  },
  {
   "cell_type": "code",
   "execution_count": 11,
   "metadata": {},
   "outputs": [
    {
     "name": "stdout",
     "output_type": "stream",
     "text": [
      "\n",
      "    Tiempo de Viaje: 31\n",
      "\n",
      "    Destino: Marte\n",
      "\n",
      "    Tanques: 13000\n",
      "Tanque: main -- 9000 restantes\n",
      "Tanque: external -- 4000 restantes\n",
      "\n"
     ]
    }
   ],
   "source": [
    "def informe(destino, *minutes, **fuel_reservoirs):\n",
    "    _informe = f\"\"\"\n",
    "    Tiempo de Viaje: {sum(minutes)}\\n\n",
    "    Destino: {destino}\\n\n",
    "    Tanques: {sum(fuel_reservoirs.values())}\\n\"\"\"\n",
    "\n",
    "    for name, cant in fuel_reservoirs.items():\n",
    "        _informe += f\"Tanque: {name} -- {cant} restantes\\n\"\n",
    "    return _informe\n",
    "print(informe('Marte', 9,11,11,main = 9000, external = 4000))"
   ]
  }
 ],
 "metadata": {
  "interpreter": {
   "hash": "b3ba2566441a7c06988d0923437866b63cedc61552a5af99d1f4fb67d367b25f"
  },
  "kernelspec": {
   "display_name": "Python 3.8.8 ('base')",
   "language": "python",
   "name": "python3"
  },
  "language_info": {
   "codemirror_mode": {
    "name": "ipython",
    "version": 3
   },
   "file_extension": ".py",
   "mimetype": "text/x-python",
   "name": "python",
   "nbconvert_exporter": "python",
   "pygments_lexer": "ipython3",
   "version": "3.8.8"
  },
  "orig_nbformat": 4
 },
 "nbformat": 4,
 "nbformat_minor": 2
}
